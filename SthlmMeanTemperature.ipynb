{
 "cells": [
  {
   "cell_type": "code",
   "execution_count": 3,
   "id": "formed-junction",
   "metadata": {},
   "outputs": [],
   "source": [
    "library(plotly);"
   ]
  },
  {
   "cell_type": "code",
   "execution_count": 1,
   "id": "circular-disability",
   "metadata": {},
   "outputs": [],
   "source": [
    "x <- 5"
   ]
  }
 ],
 "metadata": {
  "kernelspec": {
   "display_name": "R",
   "language": "R",
   "name": "ir"
  },
  "language_info": {
   "codemirror_mode": "r",
   "file_extension": ".r",
   "mimetype": "text/x-r-source",
   "name": "R",
   "pygments_lexer": "r",
   "version": "4.1.3"
  }
 },
 "nbformat": 4,
 "nbformat_minor": 5
}
